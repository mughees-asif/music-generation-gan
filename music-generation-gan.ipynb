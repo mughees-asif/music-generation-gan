{
 "cells": [
  {
   "cell_type": "markdown",
   "metadata": {
    "id": "a9G8HOw2Cf9c"
   },
   "source": [
    "<h1 style='color:blue'><center>Music Generation using Symbolic Representation with Generative Adversarial Networks (GANs)</center></h1>\n",
    "\n",
    "---\n",
    "\n",
    "<b style='color:DodgerBlue'><center>Mughees Asif – 180288337</center></b>\n",
    "<i style='color:rgb(0, 122, 172)'><center>ECS7022P - Computational Creativity</center></i>\n",
    "<i style='color:rgb(0, 122, 172)'><center>School of Electronic Engineering and Computer Science</center></i>\n",
    "<i style='color:rgb(0, 122, 172)'><center> Queen Mary, University of London</center></i>"
   ]
  },
  {
   "cell_type": "markdown",
   "metadata": {
    "id": "DDxKDCYtDW2J"
   },
   "source": [
    "<img src=\"https://raw.githubusercontent.com/mughees-asif/music-generation-gan/master/images/chopin_intro.jpg?token=GHSAT0AAAAAABS7Z352EPPBH2EJXFHK3NMCYSR24UQ\" alt=\"chopin\" style=\"width: 500px;\"/>"
   ]
  },
  {
   "cell_type": "markdown",
   "metadata": {
    "id": "TL5ZlEEIDSQJ"
   },
   "source": [
    "## Abstract\n",
    "\n",
    "Domain-style transfer for text, images, and music, has recently gained traction to enable\n",
    "creative and original digital content generation. The current trends in research for musical\n",
    "generation align with using deep neural networks due to the vast computational power\n",
    "and feasibility for producing varying styles of content. Following this light, the author\n",
    "has investigated and implemented the usage of Generative Adversarial Networks (GANs)\n",
    "with the Wasserstein Loss function to generate original musical snippets using symbolic\n",
    "notation. The dataset was sourced in a piano roll format, a widely used and accepted\n",
    "form of representing various musical tones and pitches. The GAN system was trained\n",
    "and tested in various configurations that show promising results. The generation of the\n",
    "output was aided by adding accompaniments that augment the original input samples\n",
    "with different tones and pitches to produce qualitatively pleasing music content.\n"
   ]
  },
  {
   "cell_type": "markdown",
   "metadata": {},
   "source": [
    "<div class=\"alert alert-block alert-danger\">\n",
    "<b>Note:</b> The proceeding notebook has been designed using techniques from the <a href='https://aws.amazon.com/deepcomposer/'>AWS Deepcomposer</a> samples <a href='https://stackoverflow.com/questions/17531684/n-grams-in-python-four-five-six-grams'>repository</a>.\n",
    "</div>"
   ]
  },
  {
   "cell_type": "markdown",
   "metadata": {
    "id": "l4673w7dGw2j"
   },
   "source": [
    "## Contents<a class=\"anchor\" id=\"contents\"></a>\n",
    "\n",
    "---\n",
    "\n",
    "**1** &nbsp;&nbsp;**[Download packages](#dw-dep)**<br>\n",
    "**2** &nbsp;&nbsp;**[Import dependencies](#imports)**<br>\n",
    "**3** &nbsp;&nbsp;**[Data processing](#preprocess-data)**<br>\n",
    "&nbsp;&nbsp;&nbsp;&nbsp;&nbsp;&nbsp;&nbsp;&nbsp;3.1&nbsp;&nbsp;*[Output directories](#save-output)*<br>\n",
    "&nbsp;&nbsp;&nbsp;&nbsp;&nbsp;&nbsp;&nbsp;&nbsp;3.2&nbsp;&nbsp;*[Sample the data](#sample-data)*<br>\n",
    "&nbsp;&nbsp;&nbsp;&nbsp;&nbsp;&nbsp;&nbsp;&nbsp;3.3&nbsp;&nbsp;*[Data representation](#data-representation)*<br>\n",
    "&nbsp;&nbsp;&nbsp;&nbsp;&nbsp;&nbsp;&nbsp;&nbsp;3.4&nbsp;&nbsp;*[Prepare the data](#loaddata)*<br>\n",
    "**4** &nbsp;&nbsp;**[Generative Adversarial Network](#gan)**<br>\n",
    "&nbsp;&nbsp;&nbsp;&nbsp;&nbsp;&nbsp;&nbsp;&nbsp;4.1&nbsp;&nbsp;*[Generator](#generator)*<br>\n",
    "&nbsp;&nbsp;&nbsp;&nbsp;&nbsp;&nbsp;&nbsp;&nbsp;4.2&nbsp;&nbsp;*[Discriminator](#discriminator)*<br>\n",
    "**5** &nbsp;&nbsp;**[Training](#training)**<br>\n",
    "&nbsp;&nbsp;&nbsp;&nbsp;&nbsp;&nbsp;&nbsp;&nbsp;5.1&nbsp;&nbsp;*[Optimiser](#optimiser)*<br>\n",
    "&nbsp;&nbsp;&nbsp;&nbsp;&nbsp;&nbsp;&nbsp;&nbsp;5.2&nbsp;&nbsp;*[Save checkpoints](#chkpt)*<br>\n",
    "&nbsp;&nbsp;&nbsp;&nbsp;&nbsp;&nbsp;&nbsp;&nbsp;5.3&nbsp;&nbsp;*[Loss](#loss)*<br>\n",
    "&nbsp;&nbsp;&nbsp;&nbsp;&nbsp;&nbsp;&nbsp;&nbsp;&nbsp;&nbsp;&nbsp;&nbsp;5.3.1&nbsp;&nbsp;*[Generator](#generator-train)*<br>\n",
    "&nbsp;&nbsp;&nbsp;&nbsp;&nbsp;&nbsp;&nbsp;&nbsp;&nbsp;&nbsp;&nbsp;&nbsp;5.3.2&nbsp;&nbsp;*[Discriminator](#discriminator-train)*<br>\n",
    "&nbsp;&nbsp;&nbsp;&nbsp;&nbsp;&nbsp;&nbsp;&nbsp;5.4&nbsp;&nbsp;*[Experimentation](#testing)*<br>\n",
    "**6** &nbsp;&nbsp;**[Results](#results)**<br>\n",
    "&nbsp;&nbsp;&nbsp;&nbsp;&nbsp;&nbsp;&nbsp;&nbsp;6.1&nbsp;&nbsp;*[Live](#live)*<br>\n",
    "&nbsp;&nbsp;&nbsp;&nbsp;&nbsp;&nbsp;&nbsp;&nbsp;6.2&nbsp;&nbsp;*[Recorded](#recorded)*<br>\n",
    "**7** &nbsp;&nbsp;**[References](#references)**<br>"
   ]
  },
  {
   "cell_type": "markdown",
   "metadata": {},
   "source": [
    "<div class=\"alert alert-block alert-info\">\n",
    "<b>Tip:</b> To return to the contents, press the 🔝 icon.</div>"
   ]
  },
  {
   "cell_type": "markdown",
   "metadata": {
    "id": "HjD4pbeJHJZn"
   },
   "source": [
    "## 1&nbsp;&nbsp;Download packages <a class=\"anchor\" id=\"dw-dep\"></a> [🔝](#contents)\n",
    "\n",
    "This section downloads the necessary packages needed to develop the GAN system."
   ]
  },
  {
   "cell_type": "code",
   "execution_count": 1,
   "metadata": {
    "colab": {
     "base_uri": "https://localhost:8080/"
    },
    "id": "qxgXwJMSCbA4",
    "outputId": "9cab4f98-38e2-43b2-9164-208e15a25898"
   },
   "outputs": [
    {
     "name": "stdout",
     "output_type": "stream",
     "text": [
      "Downloading dependencies...\n",
      "Almost done...\n",
      "Dependencies downloaded and ready!\n"
     ]
    },
    {
     "name": "stderr",
     "output_type": "stream",
     "text": [
      "ERROR: Could not find a version that satisfies the requirement tensorflow==1.15.0 (from versions: 2.5.0rc0, 2.5.0rc1, 2.5.0rc2, 2.5.0rc3, 2.5.0, 2.5.1, 2.5.2, 2.5.3, 2.6.0rc0, 2.6.0rc1, 2.6.0rc2, 2.6.0, 2.6.1, 2.6.2, 2.6.3, 2.7.0rc0, 2.7.0rc1, 2.7.0, 2.7.1, 2.8.0rc0, 2.8.0rc1, 2.8.0)\n",
      "ERROR: No matching distribution found for tensorflow==1.15.0\n"
     ]
    }
   ],
   "source": [
    "print('Downloading dependencies...')\n",
    "\n",
    "!pip install -q numpy\n",
    "!pip install -q scipy\n",
    "!pip install -q matplotlib\n",
    "!pip install -q ipython\n",
    "!pip install -q pypianoroll\n",
    "print('Almost done...')\n",
    "!pip install -q tensorflow==1.15.0\n",
    "\n",
    "print('Dependencies downloaded and ready!')"
   ]
  },
  {
   "cell_type": "markdown",
   "metadata": {
    "id": "QxaGsA_dH2CF"
   },
   "source": [
    "## 2&nbsp;&nbsp;Import dependencies <a class=\"anchor\" id=\"imports\"></a> [🔝](#contents)\n",
    "\n",
    "This section imports the necessary dependencies needed to execute this notebook."
   ]
  },
  {
   "cell_type": "markdown",
   "metadata": {},
   "source": [
    "<div class=\"alert alert-block alert-warning\">\n",
    "    <b>Warning:</b> The notebook relies on several utility functions that are present <a href='https://github.com/mughees-asif/music-generation-gan/tree/master/utils'>here</a>. Additionally, <b>ensure</b> to use the mentioned TensorFlow version, otherwise several dependency issues will arise.\n",
    "</div>"
   ]
  },
  {
   "cell_type": "code",
   "execution_count": 3,
   "metadata": {
    "colab": {
     "base_uri": "https://localhost:8080/"
    },
    "id": "TIvTp-4hIEF1",
    "outputId": "f38fa82b-4cce-49fa-8d7e-856401d2cebf"
   },
   "outputs": [
    {
     "name": "stdout",
     "output_type": "stream",
     "text": [
      "Importing necessary dependencies...\n",
      "Ready!\n"
     ]
    }
   ],
   "source": [
    "print('Importing necessary dependencies...')\n",
    "\n",
    "# Main imports\n",
    "import os \n",
    "import numpy as np\n",
    "from PIL import Image\n",
    "import pypianoroll\n",
    "import scipy.stats\n",
    "import pickle\n",
    "import music21\n",
    "from IPython import display\n",
    "import matplotlib.pyplot as plt\n",
    "import tensorflow as tf\n",
    "# tf.enable_eager_execution()\n",
    "\n",
    "# Utility imports \n",
    "from utils import display_utils, metrics_utils, path_utils, inference_utils, midi_utils\n",
    "\n",
    "%matplotlib inline\n",
    "\n",
    "print('Ready!')"
   ]
  },
  {
   "cell_type": "markdown",
   "metadata": {
    "id": "UQjSe0bHICae"
   },
   "source": [
    "## 3&nbsp;&nbsp;Data processing <a class=\"anchor\" id=\"preprocess-data\"></a> [🔝](#contents)\n",
    "\n",
    "This section will highlight the loading of the data for neural network training."
   ]
  },
  {
   "cell_type": "markdown",
   "metadata": {},
   "source": [
    "<div class=\"alert alert-block alert-warning\">\n",
    "    <b>Warning:</b> The dataset in <code>NumPy</code> array style is available <a href='https://github.com/mughees-asif/music-generation-gan/tree/master/datasets'>here</a>.\n",
    "</div>"
   ]
  },
  {
   "cell_type": "markdown",
   "metadata": {},
   "source": [
    "### 3.1 Output directories <a class=\"anchor\" id=\"save-output\"></a> "
   ]
  },
  {
   "cell_type": "code",
   "execution_count": null,
   "metadata": {},
   "outputs": [],
   "source": [
    "print('Setting up the folder structure to save the output...')\n",
    "\n",
    "root_dir = './output'\n",
    "\n",
    "# Save checkpoint generated during training\n",
    "check_dir = os.path.join(root_dir, 'load_saved')\n",
    "\n",
    "# Save MIDI files during training\n",
    "sample_dir = os.path.join(root_dir, 'saved_samples')\n",
    "\n",
    "# Create directories\n",
    "make_dir = [check_dir, sample_dir]\n",
    "for i in range(len(make_dir)):\n",
    "    os.makedirs(make_dir[i], exist_ok=True)\n",
    "\n",
    "print('Done!')"
   ]
  },
  {
   "cell_type": "markdown",
   "metadata": {
    "id": "76LwrMQpnWR5"
   },
   "source": [
    "### 3.2 *Sample the data* <a class=\"anchor\" id=\"sample-data\"></a>"
   ]
  },
  {
   "cell_type": "code",
   "execution_count": 6,
   "metadata": {
    "colab": {
     "base_uri": "https://localhost:8080/",
     "height": 17
    },
    "id": "53rkVH4ZIFNe",
    "outputId": "a6a00028-f75b-47b2-fb68-da45ce21b202"
   },
   "outputs": [
    {
     "data": {
      "text/html": [
       "\n",
       "                <div id='midiPlayerDiv795'></div>\n",
       "                <link rel=\"stylesheet\" href=\"//cuthbertLab.github.io/music21j/css/m21.css\"\n",
       "                    type=\"text/css\" />\n",
       "                <script>\n",
       "                require.config({\n",
       "                    paths: {'music21': '//cuthbertLab.github.io/music21j/src/music21'}\n",
       "                });\n",
       "                require(['music21'], function() {\n",
       "                               mp = new music21.miditools.MidiPlayer();\n",
       "                               mp.addPlayer('#midiPlayerDiv795');\n",
       "                               mp.base64Load('data:audio/midi;base64,TVRoZAAAAAYAAQAFBABNVHJrAAAAFAD/UQMJJ8AA/1gEBAIYCIgA/y8ATVRyawAAAFEA/wMHdW5rbm93bgDAAADgAEAAwACIAJBgZIgAgGAAAJBhZIgAgGEAAJBjZJAAgGMAAJBhZIgAgGEAAJBgZIgAgGAAAJBeZJAAgF4AiAD/LwBNVHJrAAAAYwD/Awd1bmtub3duAMAAAOAAQADAAIgAkFxkkACAXAAAkFtkiACAWwAAkFxkhACAXAAAkFtkhACAWwAAkFlkhACAWQAAkFtkhACAWwAAkFxkiACAXAAAkFtkkACAWwCIAP8vAE1UcmsAAABRAP8DB3Vua25vd24AwAAA4ABAAMAAiACQV2SIAIBXAACQUGSEAIBQAACQUmSEAIBSAACQVGSQAIBUAACQVWSIAIBVAACQV2SYAIBXAIgA/y8ATVRyawAAAFoA/wMHdW5rbm93bgDAAADgAEAAwACIAJBQZIgAgFAAAJBNZIgAgE0AAJBIZIgAgEgAAJBNZIgAgE0AAJBGZIgAgEYAAJBEZIgAgEQAAJBLZJAAgEsAiAD/LwA=');\n",
       "                        });\n",
       "                </script>"
      ],
      "text/plain": [
       "<IPython.core.display.HTML object>"
      ]
     },
     "metadata": {},
     "output_type": "display_data"
    }
   ],
   "source": [
    "# Play a sample `MIDI` file to hear the original tones\n",
    "display_utils.playmidi('./original_midi/MIDI-0.mid')"
   ]
  },
  {
   "cell_type": "markdown",
   "metadata": {
    "id": "IBc5lMSxnWR7"
   },
   "source": [
    "### 3.3 *Data representation* <a class=\"anchor\" id=\"data-representation\"></a>"
   ]
  },
  {
   "cell_type": "code",
   "execution_count": 7,
   "metadata": {
    "colab": {
     "base_uri": "https://localhost:8080/",
     "height": 282
    },
    "id": "ia4K2JaFnWR7",
    "outputId": "e53c4d0a-38bd-42cb-997d-533e5779ee96"
   },
   "outputs": [
    {
     "data": {
      "image/png": "[encoded data removed]",
      "text/plain": [
       "<Figure size 1080x288 with 4 Axes>"
      ]
     },
     "metadata": {
      "image/png": {
       "height": 265,
       "width": 884
      },
      "needs_background": "light"
     },
     "output_type": "display_data"
    }
   ],
   "source": [
    "# Load the dataset\n",
    "training_data = np.load('./dataset/train.npy')\n",
    "\n",
    "# Display piano roll format of the training data\n",
    "display_utils.show_pianoroll(training_data)"
   ]
  },
  {
   "cell_type": "markdown",
   "metadata": {
    "id": "P0Lv3TmtnWR7"
   },
   "source": [
    "### 3.4 *Prepare the data* <a class=\"anchor\" id=\"load-data\"></a>"
   ]
  },
  {
   "cell_type": "code",
   "execution_count": 8,
   "metadata": {
    "id": "L58WzPOVnWR8"
   },
   "outputs": [],
   "source": [
    "# Load dataset\n",
    "filename = './dataset/train.npy'\n",
    "data = np.load(filename)\n",
    "data = np.asarray(data, dtype=np.float32)\n",
    "\n",
    "# Convert NumPy array into tensors for training\n",
    "dataset = tf.data.Dataset.from_tensor_slices(data)\n",
    "\n",
    "# Shuffle the dataset to add variablity \n",
    "dataset = dataset.shuffle(1000).repeat()\n",
    "\n",
    "# Init batch size\n",
    "dataset = dataset.batch(64, drop_remainder=True)\n",
    "\n",
    "# Reduce idle time by prefetching batches\n",
    "dataset = dataset.prefetch(4)"
   ]
  },
  {
   "cell_type": "markdown",
   "metadata": {
    "id": "LBRzTkK2nWR8"
   },
   "source": [
    "## 4&nbsp;&nbsp;Generative Adversarial Network (GAN)<a class=\"anchor\" id=\"gan\"></a> [🔝](#contents)\n",
    "\n",
    "<img src=\"https://raw.githubusercontent.com/mughees-asif/music-generation-gan/master/images/gan.png?token=GHSAT0AAAAAABS7Z352VMPISW442TNVUA26YSZSEJA\" alt=\"gan\" style=\"width: 750px;\"/>\n",
    "<h5 align=\"center\"> Figure: GAN Architecture<sup>1</sup></h5>\n",
    "\n",
    "GANs are unsupervised neural network models that use two competing supervised sub-models (a generator $\\mathcal{G}$, and a discriminator $\\mathcal{D}$) to generate deep representations of the input data without the explicit need for annotations<sup>1</sup>. The two sub-models work in concert to develop high-dimensional distributions of the input data that generalises well on unseen samples.\n",
    "\n",
    "\\begin{align}\n",
    "    \\min_\\mathcal{G} \\max_\\mathcal{D} V(\\mathcal{G},\\mathcal{D}) = \\mathcal{E}_{x \\backsim p_{x}(x)}[\\log{\\mathcal{D}(x)}] +  \\mathcal{E}_{z \\backsim p_{z}(z)}[1-\\log{\\mathcal{D}(\\mathcal{G}(z))}]\n",
    "\\end{align}\n",
    "\n",
    "where:\n",
    "\n",
    "|  |  | \n",
    "| :--- | :--- | \n",
    "| $\\mathcal{D}(x)$ | represents the probability that $x$ is from the data and not $p_g$. | \n",
    "| $\\mathcal{E}_{x \\backsim p_{x}(x)}[\\log{\\mathcal{D}(x)}]$ | represents the probability that $x$ is from the data and not $p_g$. | \n",
    "| $\\mathcal{D}(\\mathcal{G}(z))$ | denotes $\\mathcal{D}$’s objective to correctly estimate the real data. | \n",
    "| $\\mathcal{D}(x)$ | signifies the probability that a sample is from $x$. | \n",
    "| $1-\\log{\\mathcal{D}(\\mathcal{G}(z))}$ | represents the syntheticism of $\\mathcal{D}(\\mathcal{G}(z))$. | \n",
    "| $\\mathcal{E}_{z \\backsim p_{z}(z)}[1-\\log{\\mathcal{D}(\\mathcal{G}(z))]}$ | denotes $\\mathcal{D}$’s objective to correctly estimate the probability of recognising the synthetic data. | "
   ]
  },
  {
   "cell_type": "markdown",
   "metadata": {
    "id": "p7N4TdgunWR8"
   },
   "source": [
    "### 4.1 *Generator* <a class=\"anchor\" id=\"generator\"></a>\n",
    "\n",
    "<img src=\"https://raw.githubusercontent.com/aws-samples/aws-deepcomposer-samples/ef66010dc65d9a38b5c8fcb2e7fdf9cde01ee066/gan/images/dgen.png\" alt=\"gan_generator\" style=\"width: 750px;\"/>\n",
    "<h5 align=\"center\"> Figure: The generator $\\mathcal{G}$ model based on the U-net architecture<sup>2</sup></h5>\n",
    "\n",
    "The generator $\\mathcal{G}$ \"$\\ldots$transforms a random noise vector into a synthetic sample, which resembles real samples drawn from a distribution of the real content\"<sup>3</sup>.\n",
    "\n",
    "The U-net architecture is an extension of the convolutional neural network (CNN) where pooling operations are used instead of upsampling operators, allowing for precise semantic segmentation and classification of an input image<sup>4</sup>. "
   ]
  },
  {
   "cell_type": "code",
   "execution_count": 9,
   "metadata": {
    "colab": {
     "base_uri": "https://localhost:8080/"
    },
    "id": "YbNbdu0-nWR9",
    "outputId": "f79f86ab-388c-4bdd-ab7d-cb2e5568205b"
   },
   "outputs": [
    {
     "name": "stdout",
     "output_type": "stream",
     "text": [
      "Model: \"Generator\"\n",
      "__________________________________________________________________________________________________\n",
      " Layer (type)                   Output Shape         Param #     Connected to                     \n",
      "==================================================================================================\n",
      " input_1 (InputLayer)           [(None, 32, 128, 1)  0           []                               \n",
      "                                ]                                                                 \n",
      "                                                                                                  \n",
      " conv2d (Conv2D)                (None, 16, 64, 64)   1088        ['input_1[0][0]']                \n",
      "                                                                                                  \n",
      " leaky_re_lu (LeakyReLU)        (None, 16, 64, 64)   0           ['conv2d[0][0]']                 \n",
      "                                                                                                  \n",
      " conv2d_1 (Conv2D)              (None, 8, 32, 128)   131200      ['leaky_re_lu[0][0]']            \n",
      "                                                                                                  \n",
      " leaky_re_lu_1 (LeakyReLU)      (None, 8, 32, 128)   0           ['conv2d_1[0][0]']               \n",
      "                                                                                                  \n",
      " batch_normalization (BatchNorm  (None, 8, 32, 128)  512         ['leaky_re_lu_1[0][0]']          \n",
      " alization)                                                                                       \n",
      "                                                                                                  \n",
      " conv2d_2 (Conv2D)              (None, 4, 16, 256)   524544      ['batch_normalization[0][0]']    \n",
      "                                                                                                  \n",
      " leaky_re_lu_2 (LeakyReLU)      (None, 4, 16, 256)   0           ['conv2d_2[0][0]']               \n",
      "                                                                                                  \n",
      " batch_normalization_1 (BatchNo  (None, 4, 16, 256)  1024        ['leaky_re_lu_2[0][0]']          \n",
      " rmalization)                                                                                     \n",
      "                                                                                                  \n",
      " conv2d_3 (Conv2D)              (None, 2, 8, 512)    2097664     ['batch_normalization_1[0][0]']  \n",
      "                                                                                                  \n",
      " leaky_re_lu_3 (LeakyReLU)      (None, 2, 8, 512)    0           ['conv2d_3[0][0]']               \n",
      "                                                                                                  \n",
      " batch_normalization_2 (BatchNo  (None, 2, 8, 512)   2048        ['leaky_re_lu_3[0][0]']          \n",
      " rmalization)                                                                                     \n",
      "                                                                                                  \n",
      " input_2 (InputLayer)           [(None, 2, 8, 512)]  0           []                               \n",
      "                                                                                                  \n",
      " concatenate (Concatenate)      (None, 2, 8, 1024)   0           ['batch_normalization_2[0][0]',  \n",
      "                                                                  'input_2[0][0]']                \n",
      "                                                                                                  \n",
      " up_sampling2d (UpSampling2D)   (None, 4, 16, 1024)  0           ['concatenate[0][0]']            \n",
      "                                                                                                  \n",
      " conv2d_4 (Conv2D)              (None, 4, 16, 256)   4194560     ['up_sampling2d[0][0]']          \n",
      "                                                                                                  \n",
      " batch_normalization_3 (BatchNo  (None, 4, 16, 256)  1024        ['conv2d_4[0][0]']               \n",
      " rmalization)                                                                                     \n",
      "                                                                                                  \n",
      " re_lu (ReLU)                   (None, 4, 16, 256)   0           ['batch_normalization_3[0][0]']  \n",
      "                                                                                                  \n",
      " dropout (Dropout)              (None, 4, 16, 256)   0           ['re_lu[0][0]']                  \n",
      "                                                                                                  \n",
      " concatenate_1 (Concatenate)    (None, 4, 16, 512)   0           ['dropout[0][0]',                \n",
      "                                                                  'batch_normalization_1[0][0]']  \n",
      "                                                                                                  \n",
      " up_sampling2d_1 (UpSampling2D)  (None, 8, 32, 512)  0           ['concatenate_1[0][0]']          \n",
      "                                                                                                  \n",
      " conv2d_5 (Conv2D)              (None, 8, 32, 128)   1048704     ['up_sampling2d_1[0][0]']        \n",
      "                                                                                                  \n",
      " batch_normalization_4 (BatchNo  (None, 8, 32, 128)  512         ['conv2d_5[0][0]']               \n",
      " rmalization)                                                                                     \n",
      "                                                                                                  \n",
      " re_lu_1 (ReLU)                 (None, 8, 32, 128)   0           ['batch_normalization_4[0][0]']  \n",
      "                                                                                                  \n",
      " dropout_1 (Dropout)            (None, 8, 32, 128)   0           ['re_lu_1[0][0]']                \n",
      "                                                                                                  \n",
      " concatenate_2 (Concatenate)    (None, 8, 32, 256)   0           ['dropout_1[0][0]',              \n",
      "                                                                  'batch_normalization[0][0]']    \n",
      "                                                                                                  \n",
      " up_sampling2d_2 (UpSampling2D)  (None, 16, 64, 256)  0          ['concatenate_2[0][0]']          \n",
      "                                                                                                  \n",
      " conv2d_6 (Conv2D)              (None, 16, 64, 64)   262208      ['up_sampling2d_2[0][0]']        \n",
      "                                                                                                  \n",
      " batch_normalization_5 (BatchNo  (None, 16, 64, 64)  256         ['conv2d_6[0][0]']               \n",
      " rmalization)                                                                                     \n",
      "                                                                                                  \n",
      " re_lu_2 (ReLU)                 (None, 16, 64, 64)   0           ['batch_normalization_5[0][0]']  \n",
      "                                                                                                  \n",
      " dropout_2 (Dropout)            (None, 16, 64, 64)   0           ['re_lu_2[0][0]']                \n",
      "                                                                                                  \n",
      " concatenate_3 (Concatenate)    (None, 16, 64, 128)  0           ['dropout_2[0][0]',              \n",
      "                                                                  'leaky_re_lu[0][0]']            \n",
      "                                                                                                  \n",
      " up_sampling2d_3 (UpSampling2D)  (None, 32, 128, 128  0          ['concatenate_3[0][0]']          \n",
      "                                )                                                                 \n",
      "                                                                                                  \n",
      " conv2d_7 (Conv2D)              (None, 32, 128, 4)   8196        ['up_sampling2d_3[0][0]']        \n",
      "                                                                                                  \n"
     ]
    },
    {
     "name": "stdout",
     "output_type": "stream",
     "text": [
      "==================================================================================================\n",
      "Total params: 8,273,540\n",
      "Trainable params: 8,270,852\n",
      "Non-trainable params: 2,688\n",
      "__________________________________________________________________________________________________\n"
     ]
    }
   ],
   "source": [
    "  def generator_(condition_input_shape=(32, 128, 1), filters=64,\n",
    "                    instruments=4, latent_shape=(2, 8, 512)):\n",
    "    \"\"\"\n",
    "    Builds and returns a generator model.\n",
    "    \"\"\"\n",
    "    c_input = tf.keras.layers.Input(shape=condition_input_shape)\n",
    "    z_input = tf.keras.layers.Input(shape=latent_shape)\n",
    "\n",
    "    #### Basic Downsampling Block ####\n",
    "    # d1\n",
    "    d1 = tf.keras.layers.Conv2D(filters, \n",
    "                               kernel_size=4, \n",
    "                               strides=2,\n",
    "                               padding='same')(c_input)\n",
    "    d1 = tf.keras.layers.LeakyReLU(alpha=0.2)(d1)\n",
    "\n",
    "    # d2\n",
    "    d2 = tf.keras.layers.Conv2D((filters * 2), \n",
    "                               kernel_size=4, \n",
    "                               strides=2,\n",
    "                               padding='same')(d1)\n",
    "    d2 = tf.keras.layers.LeakyReLU(alpha=0.2)(d2)\n",
    "    d2 = tf.keras.layers.BatchNormalization(momentum=0.8)(d2)\n",
    "    \n",
    "    # d3\n",
    "    d3 = tf.keras.layers.Conv2D((filters * 4), \n",
    "                               kernel_size=4, \n",
    "                               strides=2,\n",
    "                               padding='same')(d2)\n",
    "    d3 = tf.keras.layers.LeakyReLU(alpha=0.2)(d3)\n",
    "    d3 = tf.keras.layers.BatchNormalization(momentum=0.8)(d3)\n",
    "    \n",
    "    # d4\n",
    "    d4 = tf.keras.layers.Conv2D((filters * 8), \n",
    "                               kernel_size=4, \n",
    "                               strides=2,\n",
    "                               padding='same')(d3)\n",
    "    d4 = tf.keras.layers.LeakyReLU(alpha=0.2)(d4)\n",
    "    d4 = tf.keras.layers.BatchNormalization(momentum=0.8)(d4)\n",
    "    d4 = tf.keras.layers.Concatenate(axis=-1)([d4, z_input])\n",
    "    \n",
    "    #### Basic Upsampling Block ####\n",
    "    # u1\n",
    "    u1 = tf.keras.layers.UpSampling2D(size=2)(d4)\n",
    "    u1 = tf.keras.layers.Conv2D((filters * 4), \n",
    "                                kernel_size=4, \n",
    "                                strides=1,\n",
    "                                padding='same')(u1)\n",
    "    u1 = tf.keras.layers.BatchNormalization(momentum=0.8)(u1)\n",
    "    u1 = tf.keras.layers.ReLU()(u1)\n",
    "    u1 = tf.keras.layers.Dropout(0)(u1)\n",
    "    u1 = tf.keras.layers.Concatenate()([u1, d3])\n",
    "    \n",
    "    # u2\n",
    "    u2 = tf.keras.layers.UpSampling2D(size=2)(u1)\n",
    "    u2 = tf.keras.layers.Conv2D((filters * 2), \n",
    "                                kernel_size=4, \n",
    "                                strides=1,\n",
    "                                padding='same')(u2)\n",
    "    u2 = tf.keras.layers.BatchNormalization(momentum=0.8)(u2)\n",
    "    u2 = tf.keras.layers.ReLU()(u2)\n",
    "    u2 = tf.keras.layers.Dropout(0)(u2)\n",
    "    u2 = tf.keras.layers.Concatenate()([u2, d2])    \n",
    "    \n",
    "    # u3\n",
    "    u3 = tf.keras.layers.UpSampling2D(size=2)(u2)\n",
    "    u3 = tf.keras.layers.Conv2D((filters), \n",
    "                                kernel_size=4, \n",
    "                                strides=1,\n",
    "                                padding='same')(u3)\n",
    "    u3 = tf.keras.layers.BatchNormalization(momentum=0.8)(u3)\n",
    "    u3 = tf.keras.layers.ReLU()(u3)\n",
    "    u3 = tf.keras.layers.Dropout(0)(u3)\n",
    "    u3 = tf.keras.layers.Concatenate()([u3, d1])\n",
    "    \n",
    "    # u4\n",
    "    u4 = tf.keras.layers.UpSampling2D(size=2)(u3)\n",
    "    output = tf.keras.layers.Conv2D(instruments, \n",
    "                                    kernel_size=4, \n",
    "                                    strides=1,\n",
    "                                    padding='same', \n",
    "                                    activation='tanh')(u4)  # 32, 128, 4\n",
    "\n",
    "    generator = tf.keras.models.Model(\n",
    "        [c_input, z_input], \n",
    "        output, \n",
    "        name='Generator'\n",
    "    )\n",
    "\n",
    "    return generator\n",
    "\n",
    "# Initialise generator\n",
    "generator = generator_()\n",
    "# View summary of the model\n",
    "generator.summary()"
   ]
  },
  {
   "cell_type": "markdown",
   "metadata": {
    "id": "Sx0IgEEPnWR9"
   },
   "source": [
    "### 4.2 *Discriminator* <a class=\"anchor\" id=\"discriminator\"></a>\n",
    "\n",
    "<img src=\"https://raw.githubusercontent.com/aws-samples/aws-deepcomposer-samples/ef66010dc65d9a38b5c8fcb2e7fdf9cde01ee066/gan/images/ddis.png\" alt=\"gan_discriminator\" style=\"width: 750px;\"/>\n",
    "<h5 align=\"center\"> Figure: The discriminator $\\mathcal{D}$ model based on the U-net architecture<sup>2</sup></h5>\n",
    "\n",
    "The discriminator $\\mathcal{D}$ \"$\\ldots$estimates the probability that a sample came from the real data rather than from the generator $\\mathcal{G}$\"<sup>3</sup>."
   ]
  },
  {
   "cell_type": "code",
   "execution_count": 11,
   "metadata": {
    "colab": {
     "base_uri": "https://localhost:8080/"
    },
    "id": "PdqGxBGMnWR9",
    "outputId": "d5c671bf-bb57-4bae-8c68-3c4304bda144"
   },
   "outputs": [
    {
     "name": "stdout",
     "output_type": "stream",
     "text": [
      "Model: \"Discriminator\"\n",
      "__________________________________________________________________________________________________\n",
      " Layer (type)                   Output Shape         Param #     Connected to                     \n",
      "==================================================================================================\n",
      " input_5 (InputLayer)           [(None, 32, 128, 4)  0           []                               \n",
      "                                ]                                                                 \n",
      "                                                                                                  \n",
      " input_6 (InputLayer)           [(None, 32, 128, 1)  0           []                               \n",
      "                                ]                                                                 \n",
      "                                                                                                  \n",
      " concatenate_5 (Concatenate)    (None, 32, 128, 5)   0           ['input_5[0][0]',                \n",
      "                                                                  'input_6[0][0]']                \n",
      "                                                                                                  \n",
      " conv2d_10 (Conv2D)             (None, 16, 64, 64)   5184        ['concatenate_5[0][0]']          \n",
      "                                                                                                  \n",
      " leaky_re_lu_6 (LeakyReLU)      (None, 16, 64, 64)   0           ['conv2d_10[0][0]']              \n",
      "                                                                                                  \n",
      " conv2d_11 (Conv2D)             (None, 8, 32, 128)   131200      ['leaky_re_lu_6[0][0]']          \n",
      "                                                                                                  \n",
      " leaky_re_lu_7 (LeakyReLU)      (None, 8, 32, 128)   0           ['conv2d_11[0][0]']              \n",
      "                                                                                                  \n",
      " conv2d_12 (Conv2D)             (None, 4, 16, 256)   524544      ['leaky_re_lu_7[0][0]']          \n",
      "                                                                                                  \n",
      " leaky_re_lu_8 (LeakyReLU)      (None, 4, 16, 256)   0           ['conv2d_12[0][0]']              \n",
      "                                                                                                  \n",
      " conv2d_13 (Conv2D)             (None, 2, 8, 512)    2097664     ['leaky_re_lu_8[0][0]']          \n",
      "                                                                                                  \n",
      " leaky_re_lu_9 (LeakyReLU)      (None, 2, 8, 512)    0           ['conv2d_13[0][0]']              \n",
      "                                                                                                  \n",
      " flatten (Flatten)              (None, 8192)         0           ['leaky_re_lu_9[0][0]']          \n",
      "                                                                                                  \n",
      " dense (Dense)                  (None, 1)            8193        ['flatten[0][0]']                \n",
      "                                                                                                  \n",
      "==================================================================================================\n",
      "Total params: 2,766,785\n",
      "Trainable params: 2,766,785\n",
      "Non-trainable params: 0\n",
      "__________________________________________________________________________________________________\n"
     ]
    }
   ],
   "source": [
    "def discriminator_(pianoroll_shape=(32, 128, 4), filters=64):\n",
    "    \"\"\"\n",
    "    Builds and returns a discriminator model.\n",
    "    \"\"\"\n",
    "    condition_input_shape = (32,128,1)\n",
    "    groundtruth_pianoroll = tf.keras.layers.Input(shape=pianoroll_shape)\n",
    "    condition_input = tf.keras.layers.Input(shape=condition_input_shape)\n",
    "    combined_imgs = tf.keras.layers.Concatenate(axis=-1)([groundtruth_pianoroll, condition_input])\n",
    "\n",
    "\n",
    "    # d1: Discriminator does not use batch-norm\n",
    "    d1 = tf.keras.layers.Conv2D(filters, \n",
    "                               kernel_size=4, \n",
    "                               strides=2,\n",
    "                               padding='same')(combined_imgs)\n",
    "    d1 = tf.keras.layers.LeakyReLU(alpha=0.2)(d1) \n",
    "    \n",
    "    # d2\n",
    "    d2 = tf.keras.layers.Conv2D((filters * 2), \n",
    "                               kernel_size=4, \n",
    "                               strides=2,\n",
    "                               padding='same')(d1)\n",
    "    d2 = tf.keras.layers.LeakyReLU(alpha=0.2)(d2) \n",
    "    \n",
    "    # d3\n",
    "    d3 = tf.keras.layers.Conv2D((filters * 4), \n",
    "                               kernel_size=4, \n",
    "                               strides=2,\n",
    "                               padding='same')(d2)\n",
    "    d3 = tf.keras.layers.LeakyReLU(alpha=0.2)(d3) \n",
    "    \n",
    "    # d4\n",
    "    d4 = tf.keras.layers.Conv2D((filters * 8), \n",
    "                               kernel_size=4, \n",
    "                               strides=2,\n",
    "                               padding='same')(d3)\n",
    "    d4 = tf.keras.layers.LeakyReLU(alpha=0.2)(d4) \n",
    "\n",
    "    x = tf.keras.layers.Flatten()(d4)\n",
    "    logit = tf.keras.layers.Dense(1)(x)\n",
    "\n",
    "    discriminator = tf.keras.models.Model(\n",
    "        [groundtruth_pianoroll, condition_input], \n",
    "        logit,                         \n",
    "        name='Discriminator')\n",
    "    \n",
    "    return discriminator\n",
    "\n",
    "# Initialise discriminator\n",
    "discriminator = discriminator_()\n",
    "# View summary of the model\n",
    "discriminator.summary() "
   ]
  },
  {
   "cell_type": "markdown",
   "metadata": {
    "id": "BcZuR_yynWR-"
   },
   "source": [
    "## 5&nbsp;&nbsp;Training <a class=\"anchor\" id=\"training\"></a> [🔝](#contents)"
   ]
  },
  {
   "cell_type": "markdown",
   "metadata": {},
   "source": [
    "### 5.1 *Optimiser* <a class=\"anchor\" id=\"optimiser\"></a>\n",
    "\n",
    "Training the models is executed by searching for the optimization of the objective function via the Adam algorithm<sup>5</sup>. "
   ]
  },
  {
   "cell_type": "code",
   "execution_count": 17,
   "metadata": {
    "id": "oas6QDuEnWR-"
   },
   "outputs": [],
   "source": [
    "# Setup Adam optimizers for both models\n",
    "generator_optimizer = tf.keras.optimizers.Adam(1e-3, beta_1=0.5, beta_2=0.9)\n",
    "discriminator_optimizer = tf.keras.optimizers.Adam(1e-3, beta_1=0.5, beta_2=0.9)"
   ]
  },
  {
   "cell_type": "markdown",
   "metadata": {},
   "source": [
    "### 5.2 *Save checkpoints* <a class=\"anchor\" id=\"chkpt\"></a>"
   ]
  },
  {
   "cell_type": "code",
   "execution_count": 18,
   "metadata": {},
   "outputs": [],
   "source": [
    "ckpt = tf.train.Checkpoint(\n",
    "    generator=generator,\n",
    "    generator_optimizer=generator_optimizer,\n",
    "    discriminator=discriminator,\n",
    "    iscriminator_optimizer=discriminator_optimizer\n",
    ")\n",
    "\n",
    "ckpt_manager = tf.train.CheckpointManager(ckpt, check_dir, max_to_keep=5)"
   ]
  },
  {
   "cell_type": "markdown",
   "metadata": {},
   "source": [
    "### 5.3 *Loss* <a class=\"anchor\" id=\"loss\"></a>\n",
    "\n",
    "Arjovsky et al. proposed the usage of a **Wasserstein loss function with gradient penalty** to improve the interpretability of the loss function and produce samples of higher quality<sup>6</sup>. The Wasserstein metric $\\mathcal{W}$ is a measure of the distance between two probability distributions and defined as:\n",
    "\n",
    "\\begin{align}\n",
    "    \\mathcal{W}(p_{z},p_{x}) = \\max_{\\parallel f \\parallel \\leq 1} \\mathcal{E}_{x \\backsim p_z}[f(x)] - \\mathcal{E}_{x \\backsim p_x}[f(x)]\n",
    "\\end{align}\n",
    "\n",
    "The gradient of the discriminator is *penalised* to ensure optimal differentiation between the real and synthetic samples<sup>6</sup>. This is achieved by implicitly defining $p_{\\hat{x}}$ which represents uniform sampling along straight lines between pair of points drawn from $p_z$ and $p_x$<sup>6</sup>. The resulting loss function $\\mathbb{L}$ can be parametrised to allow neural network training with two learnable functions for the discriminator $\\mathcal{D}_w$ and generator $\\mathcal{G}_{\\theta}$:\n",
    "\n",
    "\\begin{align}\n",
    "    \\mathbb{L}(p_{x}, p_{\\theta}, p_{\\hat{x}}) = \\max_{w \\in \\mathbb{W}} \\mathbb{E}_{x \\sim \\mathbb{p}_x}(\\mathcal{D}_w(x)) - \\mathbb{E}_{z \\sim p(z)}(\\mathcal{D}_w(\\mathcal{G}_{\\theta}(z)) + \\lambda \\mathbb{E}_{\\hat{x} \\sim \\mathbb{p}_\\hat{x}[(\\lVert \\nabla_{\\hat{x}}\\mathcal{D}_w(\\hat{x}) \\rVert_2 -  1)^2]}\n",
    "\\label{eq:1}\n",
    "\\end{align}"
   ]
  },
  {
   "cell_type": "markdown",
   "metadata": {},
   "source": [
    "#### 5.3.1 *Generator* <a class=\"anchor\" id=\"generator-train\"></a>"
   ]
  },
  {
   "cell_type": "code",
   "execution_count": 19,
   "metadata": {
    "id": "xPtoQs-bnWR_"
   },
   "outputs": [],
   "source": [
    "@tf.function\n",
    "def generator_loss(x, condition_track_idx=0):\n",
    "    \"\"\"\n",
    "    Defines and returns the loss of the generator.\n",
    "    \"\"\"\n",
    "    # Real data \n",
    "    c = tf.expand_dims(x[..., condition_track_idx], -1)\n",
    "\n",
    "    # Latent vectors\n",
    "    z = tf.random.truncated_normal([64, 2, 8, 512])\n",
    "\n",
    "    # Update generator weights\n",
    "    with tf.GradientTape() as tape:\n",
    "        fake_x = generator((c, z), training=True)\n",
    "        fake_output = discriminator((fake_x,c), training=False)\n",
    "        \n",
    "        # -D(G(z|c))\n",
    "        ##############################################\n",
    "        # The generator trains to reduce the distance between \n",
    "        # the probability distribution of the synthetic  \n",
    "        # and the real samples.\n",
    "        ##############################################\n",
    "        gen_loss = -tf.reduce_mean(fake_output)\n",
    "\n",
    "    # Calculate gradients for Generator\n",
    "    gradients_of_generator = tape.gradient(gen_loss,\n",
    "                                           generator.trainable_variables)\n",
    "    # Update Generator\n",
    "    generator_optimizer.apply_gradients(\n",
    "        zip(gradients_of_generator, generator.trainable_variables))\n",
    "\n",
    "    return gen_loss"
   ]
  },
  {
   "cell_type": "markdown",
   "metadata": {},
   "source": [
    "#### 5.3.2 *Discriminator* <a class=\"anchor\" id=\"discriminator-train\"></a>"
   ]
  },
  {
   "cell_type": "code",
   "execution_count": 41,
   "metadata": {
    "id": "rkUazKjHnWR_"
   },
   "outputs": [],
   "source": [
    "@tf.function\n",
    "def discriminator_loss(x, condition_track_idx=0):\n",
    "    \"\"\"\n",
    "    Defines and returns the loss of the discriminator.\n",
    "    \"\"\"\n",
    "    # Real data\n",
    "    c = tf.expand_dims(x[..., condition_track_idx], -1)\n",
    "\n",
    "    # Latent vectors\n",
    "    z = tf.random.truncated_normal([64, 2, 8, 512])\n",
    "\n",
    "    # Fake sample\n",
    "    fake_x = generator((c, z), training=False)\n",
    "\n",
    "    # Update discriminator weights\n",
    "    with tf.GradientTape() as tape:\n",
    "        real_output = discriminator((x, c), training=True)\n",
    "        fake_output = discriminator((fake_x, c), training=True)\n",
    "        \n",
    "        # D(G(z|c)) - D(x|c)\n",
    "        ##############################################\n",
    "        # The discriminator trains to find the distance between \n",
    "        # the probability distribution of the synthetic and \n",
    "        # the real samples.\n",
    "        ##############################################\n",
    "        discriminator_loss = tf.reduce_mean(real_output) - tf.reduce_mean(fake_output)\n",
    "\n",
    "    # Get the gradients for the real and synthetic samples\n",
    "    grads_of_discriminator = tape.gradient(discriminator_loss,\n",
    "                                               discriminator.trainable_variables)\n",
    "    \n",
    "    # Update discriminator weights based on gradient penalty loss\n",
    "    # maximize (D(x|c)) + (1 - D(G(z|c))|c) + (Gradient Penality) \n",
    "    with tf.GradientTape() as tape:\n",
    "        c1 = tf.expand_dims(x[..., 0], -1)\n",
    "        batch_size = x.get_shape().as_list()[0]\n",
    "        eps_x = tf.random.uniform(\n",
    "            [batch_size] + [1] * (len(x.get_shape()) - 1))  \n",
    "        inter = eps_x * x + (1.0 - eps_x) * fake_x\n",
    "\n",
    "        with tf.GradientTape() as g:\n",
    "            g.watch(inter)\n",
    "            disc_inter_output = discriminator((inter, c1), training=True)\n",
    "        grads = g.gradient(disc_inter_output, inter)\n",
    "        slopes = tf.sqrt(1e-8 + tf.reduce_sum(tf.square(grads), axis=0))\n",
    "        gp_loss = tf.reduce_mean(tf.square(slopes - 1.0))        \n",
    "        gp_loss *= 10.0\n",
    "\n",
    "    # Get the gradient penalty for both samples\n",
    "    grads_gp = tape.gradient(gp_loss, discriminator.trainable_variables)\n",
    "    gradients_of_discriminator = [g + ggp for g, ggp in\n",
    "                                  zip(grads_of_discriminator, grads_gp)\n",
    "                                  if ggp is not None]\n",
    "\n",
    "    # Update discriminator based on gradients\n",
    "    discriminator_optimizer.apply_gradients(\n",
    "        zip(gradients_of_discriminator, discriminator.trainable_variables))\n",
    "\n",
    "    return (discriminator_loss + gp_loss)"
   ]
  },
  {
   "cell_type": "markdown",
   "metadata": {},
   "source": [
    "### 5.4 *Experimentation* <a class=\"anchor\" id=\"testing\"></a>\n",
    "\n",
    "The two competing models, $\\mathcal{G}$ and $\\mathcal{D}$, run in a conditional loop which does not terminate until the defined number of iterations. The $\\mathcal{G}$ takes a sample from the real data and synthesizes several new multitrack piano roll samples with added accompaniments. The $\\mathcal{D}$ model takes the new samples and predicts how much tonal deviation exists between the real and synthetic samples. This information is fed back to the $\\mathcal{G}$, which updates the weights (using the Wasserstein Loss function with Gradient penalty) to bring the next synthetic samples closer to the real samples. "
   ]
  },
  {
   "cell_type": "code",
   "execution_count": 42,
   "metadata": {
    "colab": {
     "base_uri": "https://localhost:8080/"
    },
    "id": "q-c-YpE_nWSA",
    "outputId": "4cee1c31-14c6-40b6-e98c-d350d51170d2",
    "scrolled": true
   },
   "outputs": [
    {
     "name": "stdout",
     "output_type": "stream",
     "text": [
      "Loaded 10 melody samples\n",
      "Iteration #1, d_loss=-258764.88, g_loss=-238858.12\n",
      "Iteration #1, d_loss=-328907.69, g_loss=-342386.12\n",
      "Iteration #1, d_loss=-233976.50, g_loss=-300713.69\n",
      "Iteration #1, d_loss=-267617.62, g_loss=-257948.50\n",
      "Iteration #1, d_loss=-224109.56, g_loss=-221424.78\n",
      "Iteration #1, d_loss=-272556.12, g_loss=-227617.12\n",
      "Iteration #1, d_loss=-292313.38, g_loss=-271897.22\n",
      "Iteration #1, d_loss=-207756.38, g_loss=-265494.81\n"
     ]
    },
    {
     "ename": "KeyboardInterrupt",
     "evalue": "",
     "output_type": "error",
     "traceback": [
      "\u001b[1;31m---------------------------------------------------------------------------\u001b[0m",
      "\u001b[1;31mKeyboardInterrupt\u001b[0m                         Traceback (most recent call last)",
      "\u001b[1;32m<ipython-input-42-c9e0cfae2386>\u001b[0m in \u001b[0;36m<module>\u001b[1;34m\u001b[0m\n\u001b[0;32m     25\u001b[0m    \u001b[1;31m# Train discriminator\u001b[0m\u001b[1;33m\u001b[0m\u001b[1;33m\u001b[0m\u001b[0m\n\u001b[0;32m     26\u001b[0m   \u001b[1;32mfor\u001b[0m \u001b[0m_\u001b[0m \u001b[1;32min\u001b[0m \u001b[0mrange\u001b[0m\u001b[1;33m(\u001b[0m\u001b[0mn_dis_updates_per_gen_update\u001b[0m\u001b[1;33m)\u001b[0m\u001b[1;33m:\u001b[0m\u001b[1;33m\u001b[0m\u001b[1;33m\u001b[0m\u001b[0m\n\u001b[1;32m---> 27\u001b[1;33m     \u001b[0md_loss\u001b[0m \u001b[1;33m=\u001b[0m \u001b[0mdiscriminator_loss\u001b[0m\u001b[1;33m(\u001b[0m\u001b[0mnext\u001b[0m\u001b[1;33m(\u001b[0m\u001b[0mit\u001b[0m\u001b[1;33m)\u001b[0m\u001b[1;33m)\u001b[0m\u001b[1;33m\u001b[0m\u001b[1;33m\u001b[0m\u001b[0m\n\u001b[0m\u001b[0;32m     28\u001b[0m \u001b[1;33m\u001b[0m\u001b[0m\n\u001b[0;32m     29\u001b[0m     \u001b[1;31m# Train generator\u001b[0m\u001b[1;33m\u001b[0m\u001b[1;33m\u001b[0m\u001b[0m\n",
      "\u001b[1;32m~\\miniconda3\\envs\\CC\\lib\\site-packages\\tensorflow\\python\\util\\traceback_utils.py\u001b[0m in \u001b[0;36merror_handler\u001b[1;34m(*args, **kwargs)\u001b[0m\n\u001b[0;32m    148\u001b[0m     \u001b[0mfiltered_tb\u001b[0m \u001b[1;33m=\u001b[0m \u001b[1;32mNone\u001b[0m\u001b[1;33m\u001b[0m\u001b[1;33m\u001b[0m\u001b[0m\n\u001b[0;32m    149\u001b[0m     \u001b[1;32mtry\u001b[0m\u001b[1;33m:\u001b[0m\u001b[1;33m\u001b[0m\u001b[1;33m\u001b[0m\u001b[0m\n\u001b[1;32m--> 150\u001b[1;33m       \u001b[1;32mreturn\u001b[0m \u001b[0mfn\u001b[0m\u001b[1;33m(\u001b[0m\u001b[1;33m*\u001b[0m\u001b[0margs\u001b[0m\u001b[1;33m,\u001b[0m \u001b[1;33m**\u001b[0m\u001b[0mkwargs\u001b[0m\u001b[1;33m)\u001b[0m\u001b[1;33m\u001b[0m\u001b[1;33m\u001b[0m\u001b[0m\n\u001b[0m\u001b[0;32m    151\u001b[0m     \u001b[1;32mexcept\u001b[0m \u001b[0mException\u001b[0m \u001b[1;32mas\u001b[0m \u001b[0me\u001b[0m\u001b[1;33m:\u001b[0m\u001b[1;33m\u001b[0m\u001b[1;33m\u001b[0m\u001b[0m\n\u001b[0;32m    152\u001b[0m       \u001b[0mfiltered_tb\u001b[0m \u001b[1;33m=\u001b[0m \u001b[0m_process_traceback_frames\u001b[0m\u001b[1;33m(\u001b[0m\u001b[0me\u001b[0m\u001b[1;33m.\u001b[0m\u001b[0m__traceback__\u001b[0m\u001b[1;33m)\u001b[0m\u001b[1;33m\u001b[0m\u001b[1;33m\u001b[0m\u001b[0m\n",
      "\u001b[1;32m~\\miniconda3\\envs\\CC\\lib\\site-packages\\tensorflow\\python\\eager\\def_function.py\u001b[0m in \u001b[0;36m__call__\u001b[1;34m(self, *args, **kwds)\u001b[0m\n\u001b[0;32m    913\u001b[0m \u001b[1;33m\u001b[0m\u001b[0m\n\u001b[0;32m    914\u001b[0m       \u001b[1;32mwith\u001b[0m \u001b[0mOptionalXlaContext\u001b[0m\u001b[1;33m(\u001b[0m\u001b[0mself\u001b[0m\u001b[1;33m.\u001b[0m\u001b[0m_jit_compile\u001b[0m\u001b[1;33m)\u001b[0m\u001b[1;33m:\u001b[0m\u001b[1;33m\u001b[0m\u001b[1;33m\u001b[0m\u001b[0m\n\u001b[1;32m--> 915\u001b[1;33m         \u001b[0mresult\u001b[0m \u001b[1;33m=\u001b[0m \u001b[0mself\u001b[0m\u001b[1;33m.\u001b[0m\u001b[0m_call\u001b[0m\u001b[1;33m(\u001b[0m\u001b[1;33m*\u001b[0m\u001b[0margs\u001b[0m\u001b[1;33m,\u001b[0m \u001b[1;33m**\u001b[0m\u001b[0mkwds\u001b[0m\u001b[1;33m)\u001b[0m\u001b[1;33m\u001b[0m\u001b[1;33m\u001b[0m\u001b[0m\n\u001b[0m\u001b[0;32m    916\u001b[0m \u001b[1;33m\u001b[0m\u001b[0m\n\u001b[0;32m    917\u001b[0m       \u001b[0mnew_tracing_count\u001b[0m \u001b[1;33m=\u001b[0m \u001b[0mself\u001b[0m\u001b[1;33m.\u001b[0m\u001b[0mexperimental_get_tracing_count\u001b[0m\u001b[1;33m(\u001b[0m\u001b[1;33m)\u001b[0m\u001b[1;33m\u001b[0m\u001b[1;33m\u001b[0m\u001b[0m\n",
      "\u001b[1;32m~\\miniconda3\\envs\\CC\\lib\\site-packages\\tensorflow\\python\\eager\\def_function.py\u001b[0m in \u001b[0;36m_call\u001b[1;34m(self, *args, **kwds)\u001b[0m\n\u001b[0;32m    952\u001b[0m       \u001b[1;31m# In this case we have not created variables on the first call. So we can\u001b[0m\u001b[1;33m\u001b[0m\u001b[1;33m\u001b[0m\u001b[0m\n\u001b[0;32m    953\u001b[0m       \u001b[1;31m# run the first trace but we should fail if variables are created.\u001b[0m\u001b[1;33m\u001b[0m\u001b[1;33m\u001b[0m\u001b[0m\n\u001b[1;32m--> 954\u001b[1;33m       \u001b[0mresults\u001b[0m \u001b[1;33m=\u001b[0m \u001b[0mself\u001b[0m\u001b[1;33m.\u001b[0m\u001b[0m_stateful_fn\u001b[0m\u001b[1;33m(\u001b[0m\u001b[1;33m*\u001b[0m\u001b[0margs\u001b[0m\u001b[1;33m,\u001b[0m \u001b[1;33m**\u001b[0m\u001b[0mkwds\u001b[0m\u001b[1;33m)\u001b[0m\u001b[1;33m\u001b[0m\u001b[1;33m\u001b[0m\u001b[0m\n\u001b[0m\u001b[0;32m    955\u001b[0m       \u001b[1;32mif\u001b[0m \u001b[0mself\u001b[0m\u001b[1;33m.\u001b[0m\u001b[0m_created_variables\u001b[0m \u001b[1;32mand\u001b[0m \u001b[1;32mnot\u001b[0m \u001b[0mALLOW_DYNAMIC_VARIABLE_CREATION\u001b[0m\u001b[1;33m:\u001b[0m\u001b[1;33m\u001b[0m\u001b[1;33m\u001b[0m\u001b[0m\n\u001b[0;32m    956\u001b[0m         raise ValueError(\"Creating variables on a non-first call to a function\"\n",
      "\u001b[1;32m~\\miniconda3\\envs\\CC\\lib\\site-packages\\tensorflow\\python\\eager\\function.py\u001b[0m in \u001b[0;36m__call__\u001b[1;34m(self, *args, **kwargs)\u001b[0m\n\u001b[0;32m   2954\u001b[0m       (graph_function,\n\u001b[0;32m   2955\u001b[0m        filtered_flat_args) = self._maybe_define_function(args, kwargs)\n\u001b[1;32m-> 2956\u001b[1;33m     return graph_function._call_flat(\n\u001b[0m\u001b[0;32m   2957\u001b[0m         filtered_flat_args, captured_inputs=graph_function.captured_inputs)  # pylint: disable=protected-access\n\u001b[0;32m   2958\u001b[0m \u001b[1;33m\u001b[0m\u001b[0m\n",
      "\u001b[1;32m~\\miniconda3\\envs\\CC\\lib\\site-packages\\tensorflow\\python\\eager\\function.py\u001b[0m in \u001b[0;36m_call_flat\u001b[1;34m(self, args, captured_inputs, cancellation_manager)\u001b[0m\n\u001b[0;32m   1851\u001b[0m         and executing_eagerly):\n\u001b[0;32m   1852\u001b[0m       \u001b[1;31m# No tape is watching; skip to running the function.\u001b[0m\u001b[1;33m\u001b[0m\u001b[1;33m\u001b[0m\u001b[0m\n\u001b[1;32m-> 1853\u001b[1;33m       return self._build_call_outputs(self._inference_function.call(\n\u001b[0m\u001b[0;32m   1854\u001b[0m           ctx, args, cancellation_manager=cancellation_manager))\n\u001b[0;32m   1855\u001b[0m     forward_backward = self._select_forward_and_backward_functions(\n",
      "\u001b[1;32m~\\miniconda3\\envs\\CC\\lib\\site-packages\\tensorflow\\python\\eager\\function.py\u001b[0m in \u001b[0;36mcall\u001b[1;34m(self, ctx, args, cancellation_manager)\u001b[0m\n\u001b[0;32m    497\u001b[0m       \u001b[1;32mwith\u001b[0m \u001b[0m_InterpolateFunctionError\u001b[0m\u001b[1;33m(\u001b[0m\u001b[0mself\u001b[0m\u001b[1;33m)\u001b[0m\u001b[1;33m:\u001b[0m\u001b[1;33m\u001b[0m\u001b[1;33m\u001b[0m\u001b[0m\n\u001b[0;32m    498\u001b[0m         \u001b[1;32mif\u001b[0m \u001b[0mcancellation_manager\u001b[0m \u001b[1;32mis\u001b[0m \u001b[1;32mNone\u001b[0m\u001b[1;33m:\u001b[0m\u001b[1;33m\u001b[0m\u001b[1;33m\u001b[0m\u001b[0m\n\u001b[1;32m--> 499\u001b[1;33m           outputs = execute.execute(\n\u001b[0m\u001b[0;32m    500\u001b[0m               \u001b[0mstr\u001b[0m\u001b[1;33m(\u001b[0m\u001b[0mself\u001b[0m\u001b[1;33m.\u001b[0m\u001b[0msignature\u001b[0m\u001b[1;33m.\u001b[0m\u001b[0mname\u001b[0m\u001b[1;33m)\u001b[0m\u001b[1;33m,\u001b[0m\u001b[1;33m\u001b[0m\u001b[1;33m\u001b[0m\u001b[0m\n\u001b[0;32m    501\u001b[0m               \u001b[0mnum_outputs\u001b[0m\u001b[1;33m=\u001b[0m\u001b[0mself\u001b[0m\u001b[1;33m.\u001b[0m\u001b[0m_num_outputs\u001b[0m\u001b[1;33m,\u001b[0m\u001b[1;33m\u001b[0m\u001b[1;33m\u001b[0m\u001b[0m\n",
      "\u001b[1;32m~\\miniconda3\\envs\\CC\\lib\\site-packages\\tensorflow\\python\\eager\\execute.py\u001b[0m in \u001b[0;36mquick_execute\u001b[1;34m(op_name, num_outputs, inputs, attrs, ctx, name)\u001b[0m\n\u001b[0;32m     52\u001b[0m   \u001b[1;32mtry\u001b[0m\u001b[1;33m:\u001b[0m\u001b[1;33m\u001b[0m\u001b[1;33m\u001b[0m\u001b[0m\n\u001b[0;32m     53\u001b[0m     \u001b[0mctx\u001b[0m\u001b[1;33m.\u001b[0m\u001b[0mensure_initialized\u001b[0m\u001b[1;33m(\u001b[0m\u001b[1;33m)\u001b[0m\u001b[1;33m\u001b[0m\u001b[1;33m\u001b[0m\u001b[0m\n\u001b[1;32m---> 54\u001b[1;33m     tensors = pywrap_tfe.TFE_Py_Execute(ctx._handle, device_name, op_name,\n\u001b[0m\u001b[0;32m     55\u001b[0m                                         inputs, attrs, num_outputs)\n\u001b[0;32m     56\u001b[0m   \u001b[1;32mexcept\u001b[0m \u001b[0mcore\u001b[0m\u001b[1;33m.\u001b[0m\u001b[0m_NotOkStatusException\u001b[0m \u001b[1;32mas\u001b[0m \u001b[0me\u001b[0m\u001b[1;33m:\u001b[0m\u001b[1;33m\u001b[0m\u001b[1;33m\u001b[0m\u001b[0m\n",
      "\u001b[1;31mKeyboardInterrupt\u001b[0m: "
     ]
    }
   ],
   "source": [
    "# Load 10 input samples from the dataset and 10 random latent vectors\n",
    "sample_x, sample_z = inference_utils.load_melody_samples(n_sample=10)\n",
    "\n",
    "# Training iterations\n",
    "iterations = 1000\n",
    "\n",
    "# Update discriminator n times per generator update \n",
    "update_generator_per_discriminator_update = 5\n",
    "\n",
    "# Determine input track\n",
    "sample_c = tf.expand_dims(sample_x[..., 0], -1)\n",
    "\n",
    "# Intialise metric management\n",
    "metrics_utils.metrics_manager.initialize()\n",
    "\n",
    "# Save both losses\n",
    "d_losses = []\n",
    "g_losses = []\n",
    "\n",
    "# Dataset iterator\n",
    "it = iter(dataset)\n",
    "\n",
    "# Training\n",
    "for iteration in range(iterations):\n",
    "    # Train discriminator\n",
    "    for _ in range(update_generator_per_discriminator_update):\n",
    "        # Generator loss\n",
    "        g_loss = generator_loss(next(it))\n",
    "        # Discriminator loss\n",
    "        d_loss = discriminator_loss(next(it))\n",
    "        \n",
    "        # Save Losses for visualisation\n",
    "        d_losses.append(d_loss)\n",
    "        g_losses.append(g_loss)\n",
    "\n",
    "        # Output training stats\n",
    "        if iteration % 20 == 0:\n",
    "            print('Iteration #{}, d_loss={:.2f}, g_loss={:.2f}'.format(iteration, d_loss, g_loss))\n",
    "\n",
    "        # Save checkpoints, music metrics, generated output\n",
    "        if iteration < 100 or iteration % 50 == 0 :\n",
    "            fake_sample_x = generator((sample_c, sample_z), training=False)\n",
    "            metrics_utils.metrics_manager.append_metrics_for_iteration(fake_sample_x.numpy(), iteration)\n",
    "\n",
    "            if iteration % 50 == 0:\n",
    "                ckpt_manager.save(checkpoint_number=iteration) \n",
    "\n",
    "                fake_sample_x = fake_sample_x.numpy()\n",
    "                # plot the pianoroll\n",
    "                display_utils.plot_pianoroll(iteration, sample_x[:4], fake_sample_x[:4], save_dir=sample_dir)\n",
    "                # generate the midi\n",
    "                destination_path = path_utils.generated_midi_path_for_iteration(iteration, saveto_dir=sample_dir)\n",
    "#                 midi_utils.save_pianoroll_as_midi(fake_sample_x[:4], destination_path=destination_path)"
   ]
  },
  {
   "cell_type": "markdown",
   "metadata": {},
   "source": [
    "## 6&nbsp;&nbsp;Results <a class=\"anchor\" id=\"results\"></a> [🔝](#contents)"
   ]
  },
  {
   "cell_type": "markdown",
   "metadata": {},
   "source": [
    "### 6.1 Live <a class=\"anchor\" id=\"live\"></a>\n",
    "\n",
    "The following output is from the above training."
   ]
  },
  {
   "cell_type": "code",
   "execution_count": null,
   "metadata": {
    "colab": {
     "base_uri": "https://localhost:8080/",
     "height": 365
    },
    "id": "Ewf6IVZYA_2B",
    "outputId": "e4dd64a1-6a6e-419d-c20a-f6abb79a902d"
   },
   "outputs": [],
   "source": [
    "display_utils.plot_loss_logs(g_losses, d_losses, figsize=(15, 5), smoothing=0.01)"
   ]
  },
  {
   "cell_type": "code",
   "execution_count": null,
   "metadata": {
    "colab": {
     "base_uri": "https://localhost:8080/",
     "height": 1000
    },
    "id": "DeCHPtsOBFbM",
    "outputId": "c6dbac57-f1f9-47e7-8e73-26101d3ab5b2"
   },
   "outputs": [],
   "source": [
    "metrics_utils.metrics_manager.set_reference_metrics(training_data)\n",
    "metrics_utils.metrics_manager.plot_metrics()"
   ]
  },
  {
   "cell_type": "markdown",
   "metadata": {},
   "source": [
    "### 6.2 Recorded <a class=\"anchor\" id=\"recorded\"></a>\n",
    "\n",
    "The following results were recorded over the course of the training and displays the total $\\mathcal{G}$ \\& $\\mathcal{D}$ losses with various configurations of the training parameters."
   ]
  },
  {
   "cell_type": "markdown",
   "metadata": {},
   "source": [
    "#### 1000 iterations; no update to $\\mathcal{D}$ per $\\mathcal{G}$ output\n",
    "<img src=\"https://raw.githubusercontent.com/mughees-asif/music-generation-gan/master/images/1000_iters_no-update.png?token=GHSAT0AAAAAABS7Z353O24NYLVCPN3DJP2QYSR2TJQ\" alt=\"gan-train-1\" style=\"width: 750px;\"/>\n",
    "<img src=\"https://raw.githubusercontent.com/mughees-asif/music-generation-gan/master/images/1000_metrics_no-update.png?token=GHSAT0AAAAAABS7Z352E5V24WK4S3B3RY6MYSR22GQ\" alt=\"gan-metric-1\" style=\"width: 750px;\"/>\n",
    "\n",
    "#### 2000 iterations; 2 updates to $\\mathcal{D}$ per $\\mathcal{G}$ output\n",
    "<img src=\"https://raw.githubusercontent.com/mughees-asif/music-generation-gan/master/images/1000_iters_2-update.png?token=GHSAT0AAAAAABS7Z352FBKUFJ2SB23OACQAYSR2TYA\" alt=\"gan-train-2\" style=\"width: 750px;\"/>\n",
    "<img src=\"https://raw.githubusercontent.com/mughees-asif/music-generation-gan/master/images/1000_metrics_2-update.png?token=GHSAT0AAAAAABS7Z3527N3G34XJM267QVM2YSR22IQ\" alt=\"gan-metric-2\" style=\"width: 750px;\"/>\n",
    "\n",
    "#### 5000 iterations; 5 updates to $\\mathcal{D}$ per $\\mathcal{G}$ output\n",
    "<img src=\"https://raw.githubusercontent.com/mughees-asif/music-generation-gan/master/images/1000_iters_5-update.png?token=GHSAT0AAAAAABS7Z3532BIG434QMHKH75UKYSR2TVQ\" alt=\"gan-train-3\" style=\"width: 750px;\"/>\n",
    "<img src=\"https://raw.githubusercontent.com/mughees-asif/music-generation-gan/master/images/1000_metrics_5-update.png?token=GHSAT0AAAAAABS7Z353ZB4SW2QE6DRAJ4P2YSR22KA\" alt=\"gan-metric-3\" style=\"width: 750px;\"/>"
   ]
  },
  {
   "cell_type": "markdown",
   "metadata": {},
   "source": [
    "## 7&nbsp;&nbsp;References <a class=\"anchor\" id=\"references\"></a> [🔝](#contents)\n"
   ]
  },
  {
   "cell_type": "markdown",
   "metadata": {},
   "source": [
    "<sup>1</sup>Antonia Creswell, Tom White, Vincent Dumoulin, Kai Arulkumaran, Biswa Sengupta, and Anil A Bharath. “Generative Adversarial Networks: An Overview”. In: *IEEE Signal Processing Magazine* 35.1 (2018), pp. 53–65.<br/>\n",
    "<sup>2</sup><a href='https://github.com/aws-samples/aws-deepcomposer-samples/tree/master/gan/images'>AWS Deepcomposer samples</a>.<br/>\n",
    "<sup>3</sup>Jean-Pierre Briot. “From artificial neural networks to deep learning for music generation: history, concepts and trends”. In: *Neural Computing and Applications 33.1* (2021), pp. 39–65.<br/>\n",
    "<sup>4</sup>Olaf Ronneberger, Philipp Fischer, and Thomas Brox. “U-net: Convolutional networks for biomedical image segmentation”. In: *International Conference on Medical Image Computing and Computer-Assisted Intervention*. Springer. 2015, pp. 234–241.<br/>\n",
    "<sup>5</sup>Kingma, D.P. and Ba, J., 2014. Adam: A method for stochastic optimization. *arXiv preprint arXiv:1412.6980*.<br/>\n",
    "<sup>6</sup>Martin Arjovsky, Soumith Chintala, and Léon Bottou. “Wasserstein Generative Adversarial Networks”. In: *Proceedings of the 34th International Conference on Machine Learning*. Ed. by Doina Precup and Yee Whye Teh. Vol. 70. Proceedings of Machine Learning Research. PMLR, June 2017, pp. 214–223. url: https://proceedings.mlr.press/v70/arjovsky17a.html."
   ]
  },
  {
   "cell_type": "markdown",
   "metadata": {},
   "source": [
    "<h1 style='color:purple'><center><a href='#contents'>🔝</a>&#8592;&#8592;&#8592;&#8592; END &#8594;&#8594;&#8594;&#8594;<a href='#contents'>🔝</a></center></h1>"
   ]
  }
 ],
 "metadata": {
  "accelerator": "GPU",
  "colab": {
   "collapsed_sections": [],
   "name": "music_generation_gan.ipynb",
   "provenance": []
  },
  "kernelspec": {
   "display_name": "Python 3 (ipykernel)",
   "language": "python",
   "name": "python3"
  },
  "language_info": {
   "codemirror_mode": {
    "name": "ipython",
    "version": 3
   },
   "file_extension": ".py",
   "mimetype": "text/x-python",
   "name": "python",
   "nbconvert_exporter": "python",
   "pygments_lexer": "ipython3",
   "version": "3.9.11"
  }
 },
 "nbformat": 4,
 "nbformat_minor": 1
}
